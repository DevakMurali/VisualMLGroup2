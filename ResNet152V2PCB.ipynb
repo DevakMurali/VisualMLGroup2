{
  "nbformat": 4,
  "nbformat_minor": 0,
  "metadata": {
    "colab": {
      "name": "ResNet152V2PCB.ipynb",
      "provenance": [],
      "collapsed_sections": []
    },
    "kernelspec": {
      "name": "python3",
      "display_name": "Python 3"
    },
    "language_info": {
      "name": "python"
    }
  },
  "cells": [
    {
      "cell_type": "code",
      "execution_count": null,
      "metadata": {
        "colab": {
          "base_uri": "https://localhost:8080/"
        },
        "id": "hHrq-1-Tgem_",
        "outputId": "c458ba03-c700-4e18-dfe9-cc6595b5e133"
      },
      "outputs": [
        {
          "output_type": "stream",
          "name": "stdout",
          "text": [
            "2.8.0\n"
          ]
        }
      ],
      "source": [
        "# TensorFlow and tf.keras\n",
        "import tensorflow as tf\n",
        "from tensorflow import keras\n",
        "from tensorflow.keras.layers import Conv2D, MaxPooling2D, Dropout, Flatten, Dense\n",
        "from tensorflow import image\n",
        "\n",
        "# Commonly used modules\n",
        "import numpy as np\n",
        "import os\n",
        "import sys\n",
        "\n",
        "# Images, plots, display, and visualization\n",
        "import matplotlib.pyplot as plt\n",
        "import pandas as pd\n",
        "import seaborn as sns\n",
        "import cv2\n",
        "from google.colab.patches import cv2_imshow as show\n",
        "import IPython\n",
        "from six.moves import urllib\n",
        "\n",
        "print(tf.__version__)"
      ]
    },
    {
      "cell_type": "markdown",
      "source": [
        "## Load DeepPCB Data"
      ],
      "metadata": {
        "id": "oxpm1AZ4kFBR"
      }
    },
    {
      "cell_type": "code",
      "source": [
        "!git clone https://github.com/tangsanli5201/DeepPCB.git"
      ],
      "metadata": {
        "colab": {
          "base_uri": "https://localhost:8080/"
        },
        "id": "yJ_xI3mdkEvP",
        "outputId": "770a045c-f0be-48fd-c223-2cd5355fda87"
      },
      "execution_count": null,
      "outputs": [
        {
          "output_type": "stream",
          "name": "stdout",
          "text": [
            "Cloning into 'DeepPCB'...\n",
            "remote: Enumerating objects: 4753, done.\u001b[K\n",
            "remote: Total 4753 (delta 0), reused 0 (delta 0), pack-reused 4753\u001b[K\n",
            "Receiving objects: 100% (4753/4753), 85.81 MiB | 30.21 MiB/s, done.\n",
            "Resolving deltas: 100% (191/191), done.\n",
            "Checking out files: 100% (4548/4548), done.\n"
          ]
        }
      ]
    },
    {
      "cell_type": "markdown",
      "source": [
        "## Input Data Preprocessing"
      ],
      "metadata": {
        "id": "7TIaQ1-Zj_4_"
      }
    },
    {
      "cell_type": "code",
      "source": [
        ""
      ],
      "metadata": {
        "id": "9_u-bOyRqkGx"
      },
      "execution_count": null,
      "outputs": []
    },
    {
      "cell_type": "markdown",
      "source": [
        "## Train/Test Data Split"
      ],
      "metadata": {
        "id": "4fAaSABBg0iP"
      }
    },
    {
      "cell_type": "code",
      "source": [
        "#Currently setting placeholders until I have the data\n",
        "train_images = 0;\n",
        "test_images = 0;\n",
        "train_labels = 0;\n",
        "test_labels = 0;"
      ],
      "metadata": {
        "id": "QRcvq7j_g3GA"
      },
      "execution_count": null,
      "outputs": []
    },
    {
      "cell_type": "markdown",
      "source": [
        "## CNN Setup\n",
        "The ResNet152V2 architecture pre-trained with imagenet weights was used for this."
      ],
      "metadata": {
        "id": "nI20MxKng5dC"
      }
    },
    {
      "cell_type": "code",
      "source": [
        "from tensorflow.keras.applications import ResNet152V2\n",
        "model = tf.keras.applications.ResNet152V2(\n",
        "    include_top=False,\n",
        "    weights=\"imagenet\",\n",
        "    input_tensor=None,\n",
        "    input_shape=None,\n",
        "    pooling=None,\n",
        "    classes=1000,\n",
        "    classifier_activation=\"softmax\",\n",
        ")"
      ],
      "metadata": {
        "id": "k7YnfjiqkeLC",
        "colab": {
          "base_uri": "https://localhost:8080/"
        },
        "outputId": "b02667ed-4dce-437a-cae7-9dfd8802edbc"
      },
      "execution_count": null,
      "outputs": [
        {
          "output_type": "stream",
          "name": "stdout",
          "text": [
            "Downloading data from https://storage.googleapis.com/tensorflow/keras-applications/resnet/resnet152v2_weights_tf_dim_ordering_tf_kernels.h5\n",
            "242753536/242745792 [==============================] - 2s 0us/step\n",
            "242761728/242745792 [==============================] - 2s 0us/step\n"
          ]
        }
      ]
    },
    {
      "cell_type": "code",
      "source": [
        "model.compile(optimizer=tf.optimizers.Adam(), \n",
        "              loss='mse',\n",
        "              metrics=['accuracy'])"
      ],
      "metadata": {
        "id": "gyHY6FcLRuJY"
      },
      "execution_count": null,
      "outputs": []
    },
    {
      "cell_type": "markdown",
      "source": [
        "## Train on Dataset"
      ],
      "metadata": {
        "id": "i5Ranhd4HYLZ"
      }
    },
    {
      "cell_type": "code",
      "source": [
        "history = model.fit(train_images, train_labels, epochs=5)"
      ],
      "metadata": {
        "id": "fBJ7ATrOHklc"
      },
      "execution_count": null,
      "outputs": []
    },
    {
      "cell_type": "markdown",
      "source": [
        "## Test Model"
      ],
      "metadata": {
        "id": "tbTBPyLnHhWp"
      }
    },
    {
      "cell_type": "code",
      "source": [
        "print(test_images.shape)\n",
        "test_loss, test_acc = model.evaluate(test_images, test_labels)\n",
        "\n",
        "print('Test accuracy:', test_acc)"
      ],
      "metadata": {
        "id": "2MlTbuCcOeTI"
      },
      "execution_count": null,
      "outputs": []
    }
  ]
}